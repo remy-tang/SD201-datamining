{
 "cells": [
  {
   "cell_type": "markdown",
   "metadata": {
    "id": "DfnLi4eGRond"
   },
   "source": [
    "# SD201 Project "
   ]
  },
  {
   "cell_type": "markdown",
   "metadata": {
    "id": "HkxiU1cARonj"
   },
   "source": [
    "## Dataset (from a Kaggle competition) : Instacart Market Basket Analysis\n",
    "\n",
    "Link : https://www.kaggle.com/c/instacart-market-basket-analysis/data\n",
    "\n",
    "Blog post about the competition : https://tech.instacart.com/3-million-instacart-orders-open-sourced-d40d29ead6f2\n",
    "\n",
    "Key points from the dataset:\n",
    "\n",
    "- 3M grocery store orders\n",
    "- 200,000+ Instacart users\n",
    "- 4 to 100 orders for each user, timestamped\n",
    "\n",
    "“The Instacart Online Grocery Shopping Dataset 2017”, Accessed from https://www.instacart.com/datasets/grocery-shopping-2017 on 10/12/2021\""
   ]
  },
  {
   "cell_type": "markdown",
   "metadata": {
    "id": "xLKQnfGWRonm"
   },
   "source": [
    "## Introduction"
   ]
  },
  {
   "cell_type": "markdown",
   "metadata": {
    "id": "lN5gXN05Rono"
   },
   "source": [
    "In this notebook, we seek to use association rule mining algorithm to make recommendations based on frequently bought-together items from the Instacart online store.\n",
    "\n",
    "We will discuss the following algorithms :\n",
    "\n",
    "- Apriori algorithm\n",
    "- Frequent Pattern Growth Algorithm (FP-Growth)\n",
    "- ECLAT algorithm"
   ]
  },
  {
   "cell_type": "markdown",
   "metadata": {
    "id": "xnRYxOHX8sjC"
   },
   "source": [
    "### Setup"
   ]
  },
  {
   "cell_type": "code",
   "execution_count": 1,
   "metadata": {
    "colab": {
     "base_uri": "https://localhost:8080/"
    },
    "executionInfo": {
     "elapsed": 243,
     "status": "ok",
     "timestamp": 1638958567803,
     "user": {
      "displayName": "Remy Tang",
      "photoUrl": "https://lh3.googleusercontent.com/a-/AOh14GgZKt_il_YhovsZglQRqyZLxFMXZYsgVpW3MksDevY=s64",
      "userId": "09294683799950681344"
     },
     "user_tz": -60
    },
    "id": "QytxiYCE6xzm",
    "outputId": "db918dc5-e2ff-447d-98c1-1bcdec6f6053"
   },
   "outputs": [],
   "source": [
    "# # Run cell if using Google Colab\n",
    "# # Mount the private Google Drive folder to access the .csv files\n",
    "# from google.colab import drive\n",
    "# drive.mount('/gdrive')\n",
    "# %cd /gdrive"
   ]
  },
  {
   "cell_type": "code",
   "execution_count": 2,
   "metadata": {
    "colab": {
     "base_uri": "https://localhost:8080/"
    },
    "executionInfo": {
     "elapsed": 3295,
     "status": "ok",
     "timestamp": 1638958571388,
     "user": {
      "displayName": "Remy Tang",
      "photoUrl": "https://lh3.googleusercontent.com/a-/AOh14GgZKt_il_YhovsZglQRqyZLxFMXZYsgVpW3MksDevY=s64",
      "userId": "09294683799950681344"
     },
     "user_tz": -60
    },
    "id": "hblUxYuu_0DJ",
    "outputId": "c7a1fd40-8896-412e-81fd-098dc504087e"
   },
   "outputs": [
    {
     "name": "stdout",
     "output_type": "stream",
     "text": [
      "Requirement already up-to-date: mlxtend in c:\\users\\remy\\anaconda3\\lib\\site-packages (0.19.0)\n",
      "Requirement already satisfied, skipping upgrade: setuptools in c:\\users\\remy\\anaconda3\\lib\\site-packages (from mlxtend) (50.3.1.post20201107)\n",
      "Requirement already satisfied, skipping upgrade: numpy>=1.16.2 in c:\\users\\remy\\anaconda3\\lib\\site-packages (from mlxtend) (1.21.2)\n",
      "Requirement already satisfied, skipping upgrade: pandas>=0.24.2 in c:\\users\\remy\\anaconda3\\lib\\site-packages (from mlxtend) (1.1.3)\n",
      "Requirement already satisfied, skipping upgrade: scipy>=1.2.1 in c:\\users\\remy\\anaconda3\\lib\\site-packages (from mlxtend) (1.7.1)\n",
      "Requirement already satisfied, skipping upgrade: matplotlib>=3.0.0 in c:\\users\\remy\\anaconda3\\lib\\site-packages (from mlxtend) (3.3.2)\n",
      "Requirement already satisfied, skipping upgrade: joblib>=0.13.2 in c:\\users\\remy\\anaconda3\\lib\\site-packages (from mlxtend) (0.17.0)\n",
      "Requirement already satisfied, skipping upgrade: scikit-learn>=0.20.3 in c:\\users\\remy\\anaconda3\\lib\\site-packages (from mlxtend) (0.23.2)\n",
      "Requirement already satisfied, skipping upgrade: pytz>=2017.2 in c:\\users\\remy\\anaconda3\\lib\\site-packages (from pandas>=0.24.2->mlxtend) (2020.1)\n",
      "Requirement already satisfied, skipping upgrade: python-dateutil>=2.7.3 in c:\\users\\remy\\anaconda3\\lib\\site-packages (from pandas>=0.24.2->mlxtend) (2.8.1)\n",
      "Requirement already satisfied, skipping upgrade: cycler>=0.10 in c:\\users\\remy\\anaconda3\\lib\\site-packages (from matplotlib>=3.0.0->mlxtend) (0.10.0)\n",
      "Requirement already satisfied, skipping upgrade: certifi>=2020.06.20 in c:\\users\\remy\\anaconda3\\lib\\site-packages (from matplotlib>=3.0.0->mlxtend) (2020.6.20)\n",
      "Requirement already satisfied, skipping upgrade: pillow>=6.2.0 in c:\\users\\remy\\anaconda3\\lib\\site-packages (from matplotlib>=3.0.0->mlxtend) (8.0.1)\n",
      "Requirement already satisfied, skipping upgrade: pyparsing!=2.0.4,!=2.1.2,!=2.1.6,>=2.0.3 in c:\\users\\remy\\anaconda3\\lib\\site-packages (from matplotlib>=3.0.0->mlxtend) (2.4.7)\n",
      "Requirement already satisfied, skipping upgrade: kiwisolver>=1.0.1 in c:\\users\\remy\\anaconda3\\lib\\site-packages (from matplotlib>=3.0.0->mlxtend) (1.3.0)\n",
      "Requirement already satisfied, skipping upgrade: threadpoolctl>=2.0.0 in c:\\users\\remy\\anaconda3\\lib\\site-packages (from scikit-learn>=0.20.3->mlxtend) (2.1.0)\n",
      "Requirement already satisfied, skipping upgrade: six>=1.5 in c:\\users\\remy\\anaconda3\\lib\\site-packages (from python-dateutil>=2.7.3->pandas>=0.24.2->mlxtend) (1.15.0)\n",
      "Note: you may need to restart the kernel to use updated packages.\n"
     ]
    }
   ],
   "source": [
    "# just in case you are running on Google Colab, you may run into a problem later on if you do not upgrade the package\n",
    "%pip install mlxtend --upgrade"
   ]
  },
  {
   "cell_type": "code",
   "execution_count": 3,
   "metadata": {
    "colab": {
     "base_uri": "https://localhost:8080/"
    },
    "executionInfo": {
     "elapsed": 2969,
     "status": "ok",
     "timestamp": 1638958574352,
     "user": {
      "displayName": "Remy Tang",
      "photoUrl": "https://lh3.googleusercontent.com/a-/AOh14GgZKt_il_YhovsZglQRqyZLxFMXZYsgVpW3MksDevY=s64",
      "userId": "09294683799950681344"
     },
     "user_tz": -60
    },
    "id": "F9xHKi1JNg9d",
    "outputId": "7695c818-6745-4e9b-b34b-388631690ad7"
   },
   "outputs": [
    {
     "name": "stdout",
     "output_type": "stream",
     "text": [
      "Requirement already satisfied: pyECLAT in c:\\users\\remy\\anaconda3\\lib\\site-packages (1.0.2)\n",
      "Requirement already satisfied: tqdm>=4.41.1 in c:\\users\\remy\\anaconda3\\lib\\site-packages (from pyECLAT) (4.50.2)\n",
      "Requirement already satisfied: numpy>=1.17.4 in c:\\users\\remy\\anaconda3\\lib\\site-packages (from pyECLAT) (1.21.2)\n",
      "Requirement already satisfied: pandas>=0.25.3 in c:\\users\\remy\\anaconda3\\lib\\site-packages (from pyECLAT) (1.1.3)\n",
      "Requirement already satisfied: pytz>=2017.2 in c:\\users\\remy\\anaconda3\\lib\\site-packages (from pandas>=0.25.3->pyECLAT) (2020.1)\n",
      "Requirement already satisfied: python-dateutil>=2.7.3 in c:\\users\\remy\\anaconda3\\lib\\site-packages (from pandas>=0.25.3->pyECLAT) (2.8.1)\n",
      "Requirement already satisfied: six>=1.5 in c:\\users\\remy\\anaconda3\\lib\\site-packages (from python-dateutil>=2.7.3->pandas>=0.25.3->pyECLAT) (1.15.0)\n"
     ]
    }
   ],
   "source": [
    "!pip install pyECLAT"
   ]
  },
  {
   "cell_type": "code",
   "execution_count": 4,
   "metadata": {
    "executionInfo": {
     "elapsed": 237,
     "status": "ok",
     "timestamp": 1638959920123,
     "user": {
      "displayName": "Remy Tang",
      "photoUrl": "https://lh3.googleusercontent.com/a-/AOh14GgZKt_il_YhovsZglQRqyZLxFMXZYsgVpW3MksDevY=s64",
      "userId": "09294683799950681344"
     },
     "user_tz": -60
    },
    "id": "N2cRdD8CRonp"
   },
   "outputs": [],
   "source": [
    "'''Python librairies''' \n",
    "\n",
    "# Utility librairies\n",
    "import pandas as pd\n",
    "import scipy.stats as s\n",
    "import matplotlib as mpl\n",
    "import matplotlib.pyplot as plt\n",
    "import numpy as np\n",
    "\n",
    "# Preprocessing and pipeline librairies\n",
    "from sklearn.compose import ColumnTransformer\n",
    "from sklearn.pipeline import Pipeline\n",
    "from sklearn.impute import SimpleImputer\n",
    "\n",
    "from sklearn.preprocessing import MinMaxScaler\n",
    "from sklearn.preprocessing import MultiLabelBinarizer\n",
    "from sklearn.preprocessing import StandardScaler\n",
    "\n",
    "from sklearn.model_selection import train_test_split\n",
    "\n",
    "# Wrapper to convert regular classifiers to multi-label classifiers\n",
    "from sklearn.multioutput import MultiOutputClassifier\n",
    "\n",
    "# Classifiers that support multi-label output\n",
    "from sklearn.neighbors import KNeighborsClassifier\n",
    "\n",
    "# Association rule preprocessing librairies\n",
    "from mlxtend.preprocessing import TransactionEncoder\n",
    "\n",
    "# Association rule mining librairies\n",
    "from mlxtend.frequent_patterns import apriori, association_rules\n",
    "from mlxtend.frequent_patterns.fpgrowth import fpgrowth\n",
    "from pyECLAT import ECLAT\n",
    "\n",
    "# Metrics\n",
    "from sklearn.metrics import jaccard_score\n",
    "\n",
    "# Pretty charts\n",
    "import seaborn as sns\n",
    "sns.set_theme(style=\"ticks\")"
   ]
  },
  {
   "cell_type": "code",
   "execution_count": 5,
   "metadata": {
    "executionInfo": {
     "elapsed": 11999,
     "status": "ok",
     "timestamp": 1638958586349,
     "user": {
      "displayName": "Remy Tang",
      "photoUrl": "https://lh3.googleusercontent.com/a-/AOh14GgZKt_il_YhovsZglQRqyZLxFMXZYsgVpW3MksDevY=s64",
      "userId": "09294683799950681344"
     },
     "user_tz": -60
    },
    "id": "qElocnxURonu"
   },
   "outputs": [],
   "source": [
    "# Open the data\n",
    "path_to_csv = './instacart/'\n",
    "\n",
    "op_prior = pd.read_csv(path_to_csv + 'order_products__prior.csv')\n",
    "orders   = pd.read_csv(path_to_csv + 'orders.csv')\n",
    "products = pd.read_csv(path_to_csv + 'products.csv')"
   ]
  },
  {
   "cell_type": "markdown",
   "metadata": {
    "id": "Wx1uFe6ARonv"
   },
   "source": [
    "## Data cleaning"
   ]
  },
  {
   "cell_type": "markdown",
   "metadata": {
    "id": "rkaNFGnxRonv"
   },
   "source": [
    "For association rule mining we only need `order_id` and the ordered products for each order. Since there are not any null entries in the carts data, we do not have to deal with `nan` values here.\n",
    "\n",
    "There are some null entries in the `days_since_prior_order` that we have to deal with but only for multi-label classification (see `SD201-Instacart-MultiLabelClassification` notebook)."
   ]
  },
  {
   "cell_type": "markdown",
   "metadata": {
    "id": "jfBuEEMvRonw"
   },
   "source": [
    "#### Formatting the data "
   ]
  },
  {
   "cell_type": "markdown",
   "metadata": {
    "id": "9NdToqZERonx"
   },
   "source": [
    "We cannot exploit our relational data directly: we need to perform merges using the keys in the data, and then perform an aggregation over the ordered products to get arrays of ordered products for each order."
   ]
  },
  {
   "cell_type": "markdown",
   "metadata": {
    "id": "00Z09YjSRony"
   },
   "source": [
    "Moreover, instead of keeping all the items (which poses memory problems when applying the mining algorithms), we can keep only the most frequent items according to what was done in EDA."
   ]
  },
  {
   "cell_type": "markdown",
   "metadata": {
    "id": "-OJ27w-Zp3K6"
   },
   "source": [
    "As we will see, this poses some limitations but gives preliminary insights for the Instacart platform."
   ]
  },
  {
   "cell_type": "code",
   "execution_count": 6,
   "metadata": {
    "colab": {
     "base_uri": "https://localhost:8080/"
    },
    "executionInfo": {
     "elapsed": 1377,
     "status": "ok",
     "timestamp": 1638958587718,
     "user": {
      "displayName": "Remy Tang",
      "photoUrl": "https://lh3.googleusercontent.com/a-/AOh14GgZKt_il_YhovsZglQRqyZLxFMXZYsgVpW3MksDevY=s64",
      "userId": "09294683799950681344"
     },
     "user_tz": -60
    },
    "id": "Rr0dcFD4Ronz",
    "outputId": "6bb30fc0-e3d3-4698-93aa-9c170b1b276e"
   },
   "outputs": [
    {
     "name": "stdout",
     "output_type": "stream",
     "text": [
      "Number of products before : 49677 after: 250\n"
     ]
    }
   ],
   "source": [
    "threshold = 5e-4\n",
    "order_count = len(op_prior)\n",
    "\n",
    "# Create the DataFrame of ordered products with their frequencies\n",
    "item_freq = op_prior.product_id.value_counts()\n",
    "item_freq = pd.DataFrame(item_freq.reset_index())\n",
    "item_freq.rename(columns={'product_id':'n_occ', 'index':'product_id'}, inplace= True)\n",
    "item_freq['frequency'] = item_freq['n_occ']/order_count\n",
    "\n",
    "# Compare the number of products before and after the drop\n",
    "bf_size = len(item_freq)\n",
    "item_freq = item_freq[item_freq.frequency>threshold]\n",
    "af_size = len(item_freq)\n",
    "print('Number of products before :', bf_size, 'after:', af_size)"
   ]
  },
  {
   "cell_type": "code",
   "execution_count": 7,
   "metadata": {
    "executionInfo": {
     "elapsed": 10340,
     "status": "ok",
     "timestamp": 1638958598052,
     "user": {
      "displayName": "Remy Tang",
      "photoUrl": "https://lh3.googleusercontent.com/a-/AOh14GgZKt_il_YhovsZglQRqyZLxFMXZYsgVpW3MksDevY=s64",
      "userId": "09294683799950681344"
     },
     "user_tz": -60
    },
    "id": "4c4VR7GiRon0"
   },
   "outputs": [],
   "source": [
    "# Drop all rows with unfrequently bought products\n",
    "op_prior = op_prior[op_prior.product_id.isin(item_freq.product_id)]"
   ]
  },
  {
   "cell_type": "code",
   "execution_count": 8,
   "metadata": {
    "executionInfo": {
     "elapsed": 247,
     "status": "ok",
     "timestamp": 1638959168969,
     "user": {
      "displayName": "Remy Tang",
      "photoUrl": "https://lh3.googleusercontent.com/a-/AOh14GgZKt_il_YhovsZglQRqyZLxFMXZYsgVpW3MksDevY=s64",
      "userId": "09294683799950681344"
     },
     "user_tz": -60
    },
    "id": "sQk1tyO4ULHv"
   },
   "outputs": [],
   "source": [
    "def arrange_data(op_data):\n",
    "    '''\n",
    "    Format the data so that to each order corresponds an array of products (the carts).\n",
    "    op_data can be either op_train or op_prior.\n",
    "    '''\n",
    "    \n",
    "    # Merge product information with order information\n",
    "    data = op_data[['order_id', 'product_id']]\n",
    "    # Merge with time information\n",
    "    data = data.merge(orders[['order_id', 'order_dow', 'order_hour_of_day',\n",
    "                      'days_since_prior_order']], on='order_id')\n",
    "    # Merge with product names\n",
    "    data = data.merge(products[['product_id', 'product_name']], on='product_id')\n",
    "    \n",
    "    # Aggregate the carts into arrays\n",
    "    groupby_cols = ['order_id',\n",
    "                    'order_dow',\n",
    "                    'order_hour_of_day',\n",
    "                    'days_since_prior_order']\n",
    "    data = data.groupby(groupby_cols).aggregate(list)\n",
    "    \n",
    "    # Rename the product_id column to 'cart'\n",
    "    data.rename(columns = {'product_id':'cart'}, inplace = True)\n",
    "    data.rename(columns = {'product_name':'cart_names'}, inplace = True)\n",
    "    \n",
    "    # Reset the index that was changed by the aggregation\n",
    "    data = data.reset_index()\n",
    "    \n",
    "    return data"
   ]
  },
  {
   "cell_type": "code",
   "execution_count": 9,
   "metadata": {
    "executionInfo": {
     "elapsed": 142471,
     "status": "ok",
     "timestamp": 1638959313328,
     "user": {
      "displayName": "Remy Tang",
      "photoUrl": "https://lh3.googleusercontent.com/a-/AOh14GgZKt_il_YhovsZglQRqyZLxFMXZYsgVpW3MksDevY=s64",
      "userId": "09294683799950681344"
     },
     "user_tz": -60
    },
    "id": "hHNztn-5Ron1"
   },
   "outputs": [],
   "source": [
    "# Create the DataFrame with aggregated carts for each order\n",
    "data = arrange_data(op_prior)"
   ]
  },
  {
   "cell_type": "code",
   "execution_count": 10,
   "metadata": {
    "colab": {
     "base_uri": "https://localhost:8080/",
     "height": 667
    },
    "executionInfo": {
     "elapsed": 593,
     "status": "ok",
     "timestamp": 1638959343623,
     "user": {
      "displayName": "Remy Tang",
      "photoUrl": "https://lh3.googleusercontent.com/a-/AOh14GgZKt_il_YhovsZglQRqyZLxFMXZYsgVpW3MksDevY=s64",
      "userId": "09294683799950681344"
     },
     "user_tz": -60
    },
    "id": "HzESLFu_VAHc",
    "outputId": "ffe7f8c3-2a10-4679-a5d3-9fa81eb469f9"
   },
   "outputs": [
    {
     "data": {
      "text/html": [
       "<div>\n",
       "<style scoped>\n",
       "    .dataframe tbody tr th:only-of-type {\n",
       "        vertical-align: middle;\n",
       "    }\n",
       "\n",
       "    .dataframe tbody tr th {\n",
       "        vertical-align: top;\n",
       "    }\n",
       "\n",
       "    .dataframe thead th {\n",
       "        text-align: right;\n",
       "    }\n",
       "</style>\n",
       "<table border=\"1\" class=\"dataframe\">\n",
       "  <thead>\n",
       "    <tr style=\"text-align: right;\">\n",
       "      <th></th>\n",
       "      <th>order_id</th>\n",
       "      <th>order_dow</th>\n",
       "      <th>order_hour_of_day</th>\n",
       "      <th>days_since_prior_order</th>\n",
       "      <th>cart</th>\n",
       "      <th>cart_names</th>\n",
       "    </tr>\n",
       "  </thead>\n",
       "  <tbody>\n",
       "    <tr>\n",
       "      <th>0</th>\n",
       "      <td>2</td>\n",
       "      <td>5</td>\n",
       "      <td>9</td>\n",
       "      <td>8.0</td>\n",
       "      <td>[33120, 28985, 17794]</td>\n",
       "      <td>[Organic Egg Whites, Michigan Organic Kale, Ca...</td>\n",
       "    </tr>\n",
       "    <tr>\n",
       "      <th>1</th>\n",
       "      <td>3</td>\n",
       "      <td>5</td>\n",
       "      <td>17</td>\n",
       "      <td>12.0</td>\n",
       "      <td>[33754, 24838, 21903, 46667, 17461]</td>\n",
       "      <td>[Total 2% with Strawberry Lowfat Greek Straine...</td>\n",
       "    </tr>\n",
       "    <tr>\n",
       "      <th>2</th>\n",
       "      <td>4</td>\n",
       "      <td>1</td>\n",
       "      <td>9</td>\n",
       "      <td>7.0</td>\n",
       "      <td>[25146]</td>\n",
       "      <td>[Original Orange Juice]</td>\n",
       "    </tr>\n",
       "    <tr>\n",
       "      <th>3</th>\n",
       "      <td>5</td>\n",
       "      <td>6</td>\n",
       "      <td>16</td>\n",
       "      <td>9.0</td>\n",
       "      <td>[13176, 27966, 23909, 6184, 47209]</td>\n",
       "      <td>[Bag of Organic Bananas, Organic Raspberries, ...</td>\n",
       "    </tr>\n",
       "    <tr>\n",
       "      <th>4</th>\n",
       "      <td>7</td>\n",
       "      <td>2</td>\n",
       "      <td>14</td>\n",
       "      <td>30.0</td>\n",
       "      <td>[34050, 46802]</td>\n",
       "      <td>[Orange Juice, Pineapple Chunks]</td>\n",
       "    </tr>\n",
       "    <tr>\n",
       "      <th>...</th>\n",
       "      <td>...</td>\n",
       "      <td>...</td>\n",
       "      <td>...</td>\n",
       "      <td>...</td>\n",
       "      <td>...</td>\n",
       "      <td>...</td>\n",
       "    </tr>\n",
       "    <tr>\n",
       "      <th>2452184</th>\n",
       "      <td>3421076</td>\n",
       "      <td>5</td>\n",
       "      <td>13</td>\n",
       "      <td>4.0</td>\n",
       "      <td>[28849, 19348]</td>\n",
       "      <td>[No Salt Added Black Beans, Fat Free Milk]</td>\n",
       "    </tr>\n",
       "    <tr>\n",
       "      <th>2452185</th>\n",
       "      <td>3421078</td>\n",
       "      <td>5</td>\n",
       "      <td>11</td>\n",
       "      <td>7.0</td>\n",
       "      <td>[24852, 37646, 41844, 40396]</td>\n",
       "      <td>[Banana, Organic Gala Apples, Honey Nut Cheeri...</td>\n",
       "    </tr>\n",
       "    <tr>\n",
       "      <th>2452186</th>\n",
       "      <td>3421080</td>\n",
       "      <td>1</td>\n",
       "      <td>11</td>\n",
       "      <td>2.0</td>\n",
       "      <td>[31717, 27845, 41950]</td>\n",
       "      <td>[Organic Cilantro, Organic Whole Milk, Organic...</td>\n",
       "    </tr>\n",
       "    <tr>\n",
       "      <th>2452187</th>\n",
       "      <td>3421082</td>\n",
       "      <td>2</td>\n",
       "      <td>18</td>\n",
       "      <td>4.0</td>\n",
       "      <td>[43352, 16797]</td>\n",
       "      <td>[Raspberries, Strawberries]</td>\n",
       "    </tr>\n",
       "    <tr>\n",
       "      <th>2452188</th>\n",
       "      <td>3421083</td>\n",
       "      <td>2</td>\n",
       "      <td>6</td>\n",
       "      <td>21.0</td>\n",
       "      <td>[24852]</td>\n",
       "      <td>[Banana]</td>\n",
       "    </tr>\n",
       "  </tbody>\n",
       "</table>\n",
       "<p>2452189 rows × 6 columns</p>\n",
       "</div>"
      ],
      "text/plain": [
       "         order_id  order_dow  order_hour_of_day  days_since_prior_order  \\\n",
       "0               2          5                  9                     8.0   \n",
       "1               3          5                 17                    12.0   \n",
       "2               4          1                  9                     7.0   \n",
       "3               5          6                 16                     9.0   \n",
       "4               7          2                 14                    30.0   \n",
       "...           ...        ...                ...                     ...   \n",
       "2452184   3421076          5                 13                     4.0   \n",
       "2452185   3421078          5                 11                     7.0   \n",
       "2452186   3421080          1                 11                     2.0   \n",
       "2452187   3421082          2                 18                     4.0   \n",
       "2452188   3421083          2                  6                    21.0   \n",
       "\n",
       "                                        cart  \\\n",
       "0                      [33120, 28985, 17794]   \n",
       "1        [33754, 24838, 21903, 46667, 17461]   \n",
       "2                                    [25146]   \n",
       "3         [13176, 27966, 23909, 6184, 47209]   \n",
       "4                             [34050, 46802]   \n",
       "...                                      ...   \n",
       "2452184                       [28849, 19348]   \n",
       "2452185         [24852, 37646, 41844, 40396]   \n",
       "2452186                [31717, 27845, 41950]   \n",
       "2452187                       [43352, 16797]   \n",
       "2452188                              [24852]   \n",
       "\n",
       "                                                cart_names  \n",
       "0        [Organic Egg Whites, Michigan Organic Kale, Ca...  \n",
       "1        [Total 2% with Strawberry Lowfat Greek Straine...  \n",
       "2                                  [Original Orange Juice]  \n",
       "3        [Bag of Organic Bananas, Organic Raspberries, ...  \n",
       "4                         [Orange Juice, Pineapple Chunks]  \n",
       "...                                                    ...  \n",
       "2452184         [No Salt Added Black Beans, Fat Free Milk]  \n",
       "2452185  [Banana, Organic Gala Apples, Honey Nut Cheeri...  \n",
       "2452186  [Organic Cilantro, Organic Whole Milk, Organic...  \n",
       "2452187                        [Raspberries, Strawberries]  \n",
       "2452188                                           [Banana]  \n",
       "\n",
       "[2452189 rows x 6 columns]"
      ]
     },
     "execution_count": 10,
     "metadata": {},
     "output_type": "execute_result"
    }
   ],
   "source": [
    "data"
   ]
  },
  {
   "cell_type": "markdown",
   "metadata": {
    "id": "a_9F50eqRon2"
   },
   "source": [
    "## Association rule mining "
   ]
  },
  {
   "cell_type": "markdown",
   "metadata": {
    "id": "9q28vILxRon3"
   },
   "source": [
    "### Definitions and metrics "
   ]
  },
  {
   "cell_type": "markdown",
   "metadata": {
    "id": "_SwrSwRYiOg4"
   },
   "source": [
    "We define some metrics for association mining :\n",
    "\n",
    "**Support** :  An association rule having a support of x% means that there are x% of all the transactions in the database that follow this rule.\n",
    "\n",
    "**Confidence** : An association rule having a confidence of x% means that x% of the customers who purchased some set of items (called the **antecedent**) also bought another set of items (the **consequent**)."
   ]
  },
  {
   "cell_type": "markdown",
   "metadata": {
    "id": "xDvta2xJRon3"
   },
   "source": [
    "### Apriori algorithm"
   ]
  },
  {
   "cell_type": "markdown",
   "metadata": {
    "id": "jrOndgs4Ron3"
   },
   "source": [
    "The Apriori algorithm is highly inefficient for large datasets. However the Apriori property can be used to reduce the size of the set of products on which we apply the Apriori algorithm.\n",
    "\n",
    "The Apriori property states that :\n",
    "\n",
    "*All subsets of a frequent itemset must be frequent.*\n",
    "\n",
    "It follows that:\n",
    "\n",
    "*If an itemset is infrequent, all its supersets will be infrequent.*\n",
    "\n",
    "The two algorithms below improve upon the Apriori algorithm and are suitable for large datasets.\n"
   ]
  },
  {
   "cell_type": "markdown",
   "metadata": {
    "id": "5S8jZyaZRon3"
   },
   "source": [
    "### FP-Growth algorithm "
   ]
  },
  {
   "cell_type": "code",
   "execution_count": 11,
   "metadata": {
    "colab": {
     "base_uri": "https://localhost:8080/",
     "height": 565
    },
    "executionInfo": {
     "elapsed": 8491,
     "status": "ok",
     "timestamp": 1638959406144,
     "user": {
      "displayName": "Remy Tang",
      "photoUrl": "https://lh3.googleusercontent.com/a-/AOh14GgZKt_il_YhovsZglQRqyZLxFMXZYsgVpW3MksDevY=s64",
      "userId": "09294683799950681344"
     },
     "user_tz": -60
    },
    "id": "g77PC-4NRon4",
    "outputId": "d9e5274e-32af-49d4-ac90-688cf68226b3"
   },
   "outputs": [
    {
     "data": {
      "text/html": [
       "<div>\n",
       "<style scoped>\n",
       "    .dataframe tbody tr th:only-of-type {\n",
       "        vertical-align: middle;\n",
       "    }\n",
       "\n",
       "    .dataframe tbody tr th {\n",
       "        vertical-align: top;\n",
       "    }\n",
       "\n",
       "    .dataframe thead th {\n",
       "        text-align: right;\n",
       "    }\n",
       "</style>\n",
       "<table border=\"1\" class=\"dataframe\">\n",
       "  <thead>\n",
       "    <tr style=\"text-align: right;\">\n",
       "      <th></th>\n",
       "      <th>100% Raw Coconut Water</th>\n",
       "      <th>100% Recycled Paper Towels</th>\n",
       "      <th>100% Whole Wheat Bread</th>\n",
       "      <th>2% Reduced Fat Milk</th>\n",
       "      <th>2% Reduced Fat Organic Milk</th>\n",
       "      <th>Air Chilled Organic Boneless Skinless Chicken Breasts</th>\n",
       "      <th>Apple Honeycrisp Organic</th>\n",
       "      <th>Asparagus</th>\n",
       "      <th>Asparation/Broccolini/Baby Broccoli</th>\n",
       "      <th>Baby Spinach</th>\n",
       "      <th>...</th>\n",
       "      <th>Unsweetened Vanilla Almond Milk</th>\n",
       "      <th>Vanilla Almond Breeze Almond Milk</th>\n",
       "      <th>Vanilla Skyr Nonfat Yogurt</th>\n",
       "      <th>Watermelon Chunks</th>\n",
       "      <th>Whipped Cream Cheese</th>\n",
       "      <th>White Corn</th>\n",
       "      <th>Whole Milk</th>\n",
       "      <th>Yellow Bell Pepper</th>\n",
       "      <th>Yellow Onions</th>\n",
       "      <th>YoKids Squeezers Organic Low-Fat Yogurt, Strawberry</th>\n",
       "    </tr>\n",
       "  </thead>\n",
       "  <tbody>\n",
       "    <tr>\n",
       "      <th>0</th>\n",
       "      <td>False</td>\n",
       "      <td>False</td>\n",
       "      <td>False</td>\n",
       "      <td>False</td>\n",
       "      <td>False</td>\n",
       "      <td>False</td>\n",
       "      <td>False</td>\n",
       "      <td>False</td>\n",
       "      <td>False</td>\n",
       "      <td>False</td>\n",
       "      <td>...</td>\n",
       "      <td>False</td>\n",
       "      <td>False</td>\n",
       "      <td>False</td>\n",
       "      <td>False</td>\n",
       "      <td>False</td>\n",
       "      <td>False</td>\n",
       "      <td>False</td>\n",
       "      <td>False</td>\n",
       "      <td>False</td>\n",
       "      <td>False</td>\n",
       "    </tr>\n",
       "    <tr>\n",
       "      <th>1</th>\n",
       "      <td>False</td>\n",
       "      <td>False</td>\n",
       "      <td>False</td>\n",
       "      <td>False</td>\n",
       "      <td>False</td>\n",
       "      <td>True</td>\n",
       "      <td>False</td>\n",
       "      <td>False</td>\n",
       "      <td>False</td>\n",
       "      <td>False</td>\n",
       "      <td>...</td>\n",
       "      <td>False</td>\n",
       "      <td>False</td>\n",
       "      <td>False</td>\n",
       "      <td>False</td>\n",
       "      <td>False</td>\n",
       "      <td>False</td>\n",
       "      <td>False</td>\n",
       "      <td>False</td>\n",
       "      <td>False</td>\n",
       "      <td>False</td>\n",
       "    </tr>\n",
       "    <tr>\n",
       "      <th>2</th>\n",
       "      <td>False</td>\n",
       "      <td>False</td>\n",
       "      <td>False</td>\n",
       "      <td>False</td>\n",
       "      <td>False</td>\n",
       "      <td>False</td>\n",
       "      <td>False</td>\n",
       "      <td>False</td>\n",
       "      <td>False</td>\n",
       "      <td>False</td>\n",
       "      <td>...</td>\n",
       "      <td>False</td>\n",
       "      <td>False</td>\n",
       "      <td>False</td>\n",
       "      <td>False</td>\n",
       "      <td>False</td>\n",
       "      <td>False</td>\n",
       "      <td>False</td>\n",
       "      <td>False</td>\n",
       "      <td>False</td>\n",
       "      <td>False</td>\n",
       "    </tr>\n",
       "    <tr>\n",
       "      <th>3</th>\n",
       "      <td>False</td>\n",
       "      <td>False</td>\n",
       "      <td>False</td>\n",
       "      <td>True</td>\n",
       "      <td>False</td>\n",
       "      <td>False</td>\n",
       "      <td>False</td>\n",
       "      <td>False</td>\n",
       "      <td>False</td>\n",
       "      <td>False</td>\n",
       "      <td>...</td>\n",
       "      <td>False</td>\n",
       "      <td>False</td>\n",
       "      <td>False</td>\n",
       "      <td>False</td>\n",
       "      <td>False</td>\n",
       "      <td>False</td>\n",
       "      <td>False</td>\n",
       "      <td>False</td>\n",
       "      <td>False</td>\n",
       "      <td>False</td>\n",
       "    </tr>\n",
       "    <tr>\n",
       "      <th>4</th>\n",
       "      <td>False</td>\n",
       "      <td>False</td>\n",
       "      <td>False</td>\n",
       "      <td>False</td>\n",
       "      <td>False</td>\n",
       "      <td>False</td>\n",
       "      <td>False</td>\n",
       "      <td>False</td>\n",
       "      <td>False</td>\n",
       "      <td>False</td>\n",
       "      <td>...</td>\n",
       "      <td>False</td>\n",
       "      <td>False</td>\n",
       "      <td>False</td>\n",
       "      <td>False</td>\n",
       "      <td>False</td>\n",
       "      <td>False</td>\n",
       "      <td>False</td>\n",
       "      <td>False</td>\n",
       "      <td>False</td>\n",
       "      <td>False</td>\n",
       "    </tr>\n",
       "    <tr>\n",
       "      <th>...</th>\n",
       "      <td>...</td>\n",
       "      <td>...</td>\n",
       "      <td>...</td>\n",
       "      <td>...</td>\n",
       "      <td>...</td>\n",
       "      <td>...</td>\n",
       "      <td>...</td>\n",
       "      <td>...</td>\n",
       "      <td>...</td>\n",
       "      <td>...</td>\n",
       "      <td>...</td>\n",
       "      <td>...</td>\n",
       "      <td>...</td>\n",
       "      <td>...</td>\n",
       "      <td>...</td>\n",
       "      <td>...</td>\n",
       "      <td>...</td>\n",
       "      <td>...</td>\n",
       "      <td>...</td>\n",
       "      <td>...</td>\n",
       "      <td>...</td>\n",
       "    </tr>\n",
       "    <tr>\n",
       "      <th>2452184</th>\n",
       "      <td>False</td>\n",
       "      <td>False</td>\n",
       "      <td>False</td>\n",
       "      <td>False</td>\n",
       "      <td>False</td>\n",
       "      <td>False</td>\n",
       "      <td>False</td>\n",
       "      <td>False</td>\n",
       "      <td>False</td>\n",
       "      <td>False</td>\n",
       "      <td>...</td>\n",
       "      <td>False</td>\n",
       "      <td>False</td>\n",
       "      <td>False</td>\n",
       "      <td>False</td>\n",
       "      <td>False</td>\n",
       "      <td>False</td>\n",
       "      <td>False</td>\n",
       "      <td>False</td>\n",
       "      <td>False</td>\n",
       "      <td>False</td>\n",
       "    </tr>\n",
       "    <tr>\n",
       "      <th>2452185</th>\n",
       "      <td>False</td>\n",
       "      <td>False</td>\n",
       "      <td>False</td>\n",
       "      <td>False</td>\n",
       "      <td>False</td>\n",
       "      <td>False</td>\n",
       "      <td>False</td>\n",
       "      <td>False</td>\n",
       "      <td>False</td>\n",
       "      <td>False</td>\n",
       "      <td>...</td>\n",
       "      <td>False</td>\n",
       "      <td>False</td>\n",
       "      <td>False</td>\n",
       "      <td>False</td>\n",
       "      <td>False</td>\n",
       "      <td>False</td>\n",
       "      <td>False</td>\n",
       "      <td>False</td>\n",
       "      <td>False</td>\n",
       "      <td>False</td>\n",
       "    </tr>\n",
       "    <tr>\n",
       "      <th>2452186</th>\n",
       "      <td>False</td>\n",
       "      <td>False</td>\n",
       "      <td>False</td>\n",
       "      <td>False</td>\n",
       "      <td>False</td>\n",
       "      <td>False</td>\n",
       "      <td>False</td>\n",
       "      <td>False</td>\n",
       "      <td>False</td>\n",
       "      <td>False</td>\n",
       "      <td>...</td>\n",
       "      <td>False</td>\n",
       "      <td>False</td>\n",
       "      <td>False</td>\n",
       "      <td>False</td>\n",
       "      <td>False</td>\n",
       "      <td>False</td>\n",
       "      <td>False</td>\n",
       "      <td>False</td>\n",
       "      <td>False</td>\n",
       "      <td>False</td>\n",
       "    </tr>\n",
       "    <tr>\n",
       "      <th>2452187</th>\n",
       "      <td>False</td>\n",
       "      <td>False</td>\n",
       "      <td>False</td>\n",
       "      <td>False</td>\n",
       "      <td>False</td>\n",
       "      <td>False</td>\n",
       "      <td>False</td>\n",
       "      <td>False</td>\n",
       "      <td>False</td>\n",
       "      <td>False</td>\n",
       "      <td>...</td>\n",
       "      <td>False</td>\n",
       "      <td>False</td>\n",
       "      <td>False</td>\n",
       "      <td>False</td>\n",
       "      <td>False</td>\n",
       "      <td>False</td>\n",
       "      <td>False</td>\n",
       "      <td>False</td>\n",
       "      <td>False</td>\n",
       "      <td>False</td>\n",
       "    </tr>\n",
       "    <tr>\n",
       "      <th>2452188</th>\n",
       "      <td>False</td>\n",
       "      <td>False</td>\n",
       "      <td>False</td>\n",
       "      <td>False</td>\n",
       "      <td>False</td>\n",
       "      <td>False</td>\n",
       "      <td>False</td>\n",
       "      <td>False</td>\n",
       "      <td>False</td>\n",
       "      <td>False</td>\n",
       "      <td>...</td>\n",
       "      <td>False</td>\n",
       "      <td>False</td>\n",
       "      <td>False</td>\n",
       "      <td>False</td>\n",
       "      <td>False</td>\n",
       "      <td>False</td>\n",
       "      <td>False</td>\n",
       "      <td>False</td>\n",
       "      <td>False</td>\n",
       "      <td>False</td>\n",
       "    </tr>\n",
       "  </tbody>\n",
       "</table>\n",
       "<p>2452189 rows × 250 columns</p>\n",
       "</div>"
      ],
      "text/plain": [
       "         100% Raw Coconut Water  100% Recycled Paper Towels  \\\n",
       "0                         False                       False   \n",
       "1                         False                       False   \n",
       "2                         False                       False   \n",
       "3                         False                       False   \n",
       "4                         False                       False   \n",
       "...                         ...                         ...   \n",
       "2452184                   False                       False   \n",
       "2452185                   False                       False   \n",
       "2452186                   False                       False   \n",
       "2452187                   False                       False   \n",
       "2452188                   False                       False   \n",
       "\n",
       "         100% Whole Wheat Bread  2% Reduced Fat Milk  \\\n",
       "0                         False                False   \n",
       "1                         False                False   \n",
       "2                         False                False   \n",
       "3                         False                 True   \n",
       "4                         False                False   \n",
       "...                         ...                  ...   \n",
       "2452184                   False                False   \n",
       "2452185                   False                False   \n",
       "2452186                   False                False   \n",
       "2452187                   False                False   \n",
       "2452188                   False                False   \n",
       "\n",
       "         2% Reduced Fat Organic Milk  \\\n",
       "0                              False   \n",
       "1                              False   \n",
       "2                              False   \n",
       "3                              False   \n",
       "4                              False   \n",
       "...                              ...   \n",
       "2452184                        False   \n",
       "2452185                        False   \n",
       "2452186                        False   \n",
       "2452187                        False   \n",
       "2452188                        False   \n",
       "\n",
       "         Air Chilled Organic Boneless Skinless Chicken Breasts  \\\n",
       "0                                                    False       \n",
       "1                                                     True       \n",
       "2                                                    False       \n",
       "3                                                    False       \n",
       "4                                                    False       \n",
       "...                                                    ...       \n",
       "2452184                                              False       \n",
       "2452185                                              False       \n",
       "2452186                                              False       \n",
       "2452187                                              False       \n",
       "2452188                                              False       \n",
       "\n",
       "         Apple Honeycrisp Organic  Asparagus  \\\n",
       "0                           False      False   \n",
       "1                           False      False   \n",
       "2                           False      False   \n",
       "3                           False      False   \n",
       "4                           False      False   \n",
       "...                           ...        ...   \n",
       "2452184                     False      False   \n",
       "2452185                     False      False   \n",
       "2452186                     False      False   \n",
       "2452187                     False      False   \n",
       "2452188                     False      False   \n",
       "\n",
       "         Asparation/Broccolini/Baby Broccoli  Baby Spinach  ...  \\\n",
       "0                                      False         False  ...   \n",
       "1                                      False         False  ...   \n",
       "2                                      False         False  ...   \n",
       "3                                      False         False  ...   \n",
       "4                                      False         False  ...   \n",
       "...                                      ...           ...  ...   \n",
       "2452184                                False         False  ...   \n",
       "2452185                                False         False  ...   \n",
       "2452186                                False         False  ...   \n",
       "2452187                                False         False  ...   \n",
       "2452188                                False         False  ...   \n",
       "\n",
       "         Unsweetened Vanilla Almond Milk  Vanilla Almond Breeze Almond Milk  \\\n",
       "0                                  False                              False   \n",
       "1                                  False                              False   \n",
       "2                                  False                              False   \n",
       "3                                  False                              False   \n",
       "4                                  False                              False   \n",
       "...                                  ...                                ...   \n",
       "2452184                            False                              False   \n",
       "2452185                            False                              False   \n",
       "2452186                            False                              False   \n",
       "2452187                            False                              False   \n",
       "2452188                            False                              False   \n",
       "\n",
       "         Vanilla Skyr Nonfat Yogurt  Watermelon Chunks  Whipped Cream Cheese  \\\n",
       "0                             False              False                 False   \n",
       "1                             False              False                 False   \n",
       "2                             False              False                 False   \n",
       "3                             False              False                 False   \n",
       "4                             False              False                 False   \n",
       "...                             ...                ...                   ...   \n",
       "2452184                       False              False                 False   \n",
       "2452185                       False              False                 False   \n",
       "2452186                       False              False                 False   \n",
       "2452187                       False              False                 False   \n",
       "2452188                       False              False                 False   \n",
       "\n",
       "         White Corn  Whole Milk  Yellow Bell Pepper  Yellow Onions  \\\n",
       "0             False       False               False          False   \n",
       "1             False       False               False          False   \n",
       "2             False       False               False          False   \n",
       "3             False       False               False          False   \n",
       "4             False       False               False          False   \n",
       "...             ...         ...                 ...            ...   \n",
       "2452184       False       False               False          False   \n",
       "2452185       False       False               False          False   \n",
       "2452186       False       False               False          False   \n",
       "2452187       False       False               False          False   \n",
       "2452188       False       False               False          False   \n",
       "\n",
       "         YoKids Squeezers Organic Low-Fat Yogurt, Strawberry  \n",
       "0                                                    False    \n",
       "1                                                    False    \n",
       "2                                                    False    \n",
       "3                                                    False    \n",
       "4                                                    False    \n",
       "...                                                    ...    \n",
       "2452184                                              False    \n",
       "2452185                                              False    \n",
       "2452186                                              False    \n",
       "2452187                                              False    \n",
       "2452188                                              False    \n",
       "\n",
       "[2452189 rows x 250 columns]"
      ]
     },
     "execution_count": 11,
     "metadata": {},
     "output_type": "execute_result"
    }
   ],
   "source": [
    "# Preprocess the transactions by one-hot-encoding them\n",
    "te = TransactionEncoder()\n",
    "te.fit(list(data.cart_names))\n",
    "ohe_transactions = te.transform(list(data.cart_names))\n",
    "ohe_transactions_df = pd.DataFrame(ohe_transactions, columns=te.columns_)\n",
    "ohe_transactions_df"
   ]
  },
  {
   "cell_type": "markdown",
   "metadata": {
    "id": "QJdmqOJxUrop"
   },
   "source": [
    "We define the support of an itemset (set of products) as the number of occurences of said itemset in the list of transactions. However the librairy we use for FP-Growth uses a percentage for the support so we need to do the conversion.\n",
    "\n",
    "The minimum support is the threshold of support for which we consider an itemset. We can fine tune this parameter by hand."
   ]
  },
  {
   "cell_type": "code",
   "execution_count": null,
   "metadata": {
    "colab": {
     "base_uri": "https://localhost:8080/",
     "height": 442
    },
    "executionInfo": {
     "elapsed": 83859,
     "status": "ok",
     "timestamp": 1638959491552,
     "user": {
      "displayName": "Remy Tang",
      "photoUrl": "https://lh3.googleusercontent.com/a-/AOh14GgZKt_il_YhovsZglQRqyZLxFMXZYsgVpW3MksDevY=s64",
      "userId": "09294683799950681344"
     },
     "user_tz": -60
    },
    "id": "OU8cXaPZUd18",
    "outputId": "bc0b93a5-46e7-4d0a-cacb-bc50fc97af1d"
   },
   "outputs": [
    {
     "name": "stdout",
     "output_type": "stream",
     "text": [
      "Minimum support: 0.004077989094641563\n"
     ]
    }
   ],
   "source": [
    "# Define the minimum support\n",
    "# Here we choose that there must be at least 10000 transactions  \n",
    "# among the 2,5M in which the itemset is present\n",
    "min_support = 10000/len(data.cart_names) \n",
    "print('Minimum support:', min_support)\n",
    "\n",
    "# Compute the frequent itemsets\n",
    "frequent_itemsets = fpgrowth(ohe_transactions_df, min_support=min_support, use_colnames = True)\n",
    "frequent_itemsets.sort_values(ascending=False)"
   ]
  },
  {
   "cell_type": "code",
   "execution_count": null,
   "metadata": {
    "colab": {
     "base_uri": "https://localhost:8080/",
     "height": 791
    },
    "executionInfo": {
     "elapsed": 19,
     "status": "ok",
     "timestamp": 1638959491554,
     "user": {
      "displayName": "Remy Tang",
      "photoUrl": "https://lh3.googleusercontent.com/a-/AOh14GgZKt_il_YhovsZglQRqyZLxFMXZYsgVpW3MksDevY=s64",
      "userId": "09294683799950681344"
     },
     "user_tz": -60
    },
    "id": "uhnwU3ekbq0J",
    "outputId": "78bfa94d-637e-422e-d93d-8ba40450fce1"
   },
   "outputs": [],
   "source": [
    "# Compute association rules\n",
    "# We tune the min_threshold so as not to get too many results,\n",
    "# only the most relevant ones in terms of confidence\n",
    "conf_thresh=0.20\n",
    "fpg_a_rules = association_rules(frequent_itemsets, metric=\"confidence\",\n",
    "                                min_threshold=conf_thresh)\n",
    "fpg_a_rules.sort_values(by='confidence', ascending=False)"
   ]
  },
  {
   "cell_type": "code",
   "execution_count": null,
   "metadata": {
    "executionInfo": {
     "elapsed": 239,
     "status": "ok",
     "timestamp": 1638959567221,
     "user": {
      "displayName": "Remy Tang",
      "photoUrl": "https://lh3.googleusercontent.com/a-/AOh14GgZKt_il_YhovsZglQRqyZLxFMXZYsgVpW3MksDevY=s64",
      "userId": "09294683799950681344"
     },
     "user_tz": -60
    },
    "id": "x2PGVwAeqWhO"
   },
   "outputs": [],
   "source": [
    "# Free the RAM for Google Colab\n",
    "ohe_transactions_df = None\n",
    "frequent_itemsets = None"
   ]
  },
  {
   "cell_type": "markdown",
   "metadata": {
    "id": "A0NAQ6JOnQAo"
   },
   "source": [
    "We do get coherent association rules, for example someone who orders organic products is likely to order organic bananas as well. Therefore Instacart could suggest organic bananas to someone who already has organic products in their cart.\n",
    "\n",
    "However since the initial dataset of transactions is mainly about fresh fruits and vegetables (as we have filtered them this way to get the most ordered products), we only have association rules \n",
    "for those products.\n",
    "\n",
    "Nonetheless, we could easily solve this problem by filtering according to the department of each products, so as to make association rules for each department."
   ]
  },
  {
   "cell_type": "markdown",
   "metadata": {
    "id": "svjJrOi_bZCu"
   },
   "source": [
    "### ECLAT Algorithm"
   ]
  },
  {
   "cell_type": "markdown",
   "metadata": {
    "id": "JrQ59MNw9KiM"
   },
   "source": [
    "Unfortunateley the ECLAT algorithm crashes for all combinations of parameters on Google Colab..."
   ]
  },
  {
   "cell_type": "code",
   "execution_count": null,
   "metadata": {
    "executionInfo": {
     "elapsed": 28,
     "status": "aborted",
     "timestamp": 1638892615309,
     "user": {
      "displayName": "Remy Tang",
      "photoUrl": "https://lh3.googleusercontent.com/a-/AOh14GgZKt_il_YhovsZglQRqyZLxFMXZYsgVpW3MksDevY=s64",
      "userId": "09294683799950681344"
     },
     "user_tz": -60
    },
    "id": "O_kQWxZ9j-IN"
   },
   "outputs": [],
   "source": [
    "# We are not interested in individual products\n",
    "# We set the minimum itemset size to 2\n",
    "min_n_products = 2\n",
    "\n",
    "# Define the minimum support\n",
    "# Here we choose that there must be n transactions among the 2,5M in which\n",
    "# the itemset is present\n",
    "n=25000\n",
    "min_support = 25000/len(data.cart_names)\n",
    "\n",
    "# There is no real limit to the size of association rules\n",
    "# However we set it to 2 for memory reasons\n",
    "max_length = 5"
   ]
  },
  {
   "cell_type": "code",
   "execution_count": null,
   "metadata": {
    "executionInfo": {
     "elapsed": 28,
     "status": "aborted",
     "timestamp": 1638892615310,
     "user": {
      "displayName": "Remy Tang",
      "photoUrl": "https://lh3.googleusercontent.com/a-/AOh14GgZKt_il_YhovsZglQRqyZLxFMXZYsgVpW3MksDevY=s64",
      "userId": "09294683799950681344"
     },
     "user_tz": -60
    },
    "id": "KS-rzB9_liHA"
   },
   "outputs": [],
   "source": [
    "# Convert input data to the right format\n",
    "ECLAT_transactions = pd.DataFrame(list(data.cart_names))"
   ]
  },
  {
   "cell_type": "code",
   "execution_count": null,
   "metadata": {
    "executionInfo": {
     "elapsed": 28,
     "status": "aborted",
     "timestamp": 1638892615310,
     "user": {
      "displayName": "Remy Tang",
      "photoUrl": "https://lh3.googleusercontent.com/a-/AOh14GgZKt_il_YhovsZglQRqyZLxFMXZYsgVpW3MksDevY=s64",
      "userId": "09294683799950681344"
     },
     "user_tz": -60
    },
    "id": "gZcpgE9jka4Y"
   },
   "outputs": [],
   "source": [
    "# # Crashes here\n",
    "# eclat = ECLAT(data=ECLAT_transactions, verbose=True)\n",
    "\n",
    "# # fit the algorithm\n",
    "# rule_indices, rule_supports = my_eclat.fit(min_support=min_support,\n",
    "#                                            min_combination=min_n_products,\n",
    "#                                            max_combination=max_length)"
   ]
  },
  {
   "cell_type": "code",
   "execution_count": null,
   "metadata": {
    "executionInfo": {
     "elapsed": 28,
     "status": "aborted",
     "timestamp": 1638892615311,
     "user": {
      "displayName": "Remy Tang",
      "photoUrl": "https://lh3.googleusercontent.com/a-/AOh14GgZKt_il_YhovsZglQRqyZLxFMXZYsgVpW3MksDevY=s64",
      "userId": "09294683799950681344"
     },
     "user_tz": -60
    },
    "id": "q0lRMrf_lWpC"
   },
   "outputs": [],
   "source": [
    "# print(rule_supports)"
   ]
  },
  {
   "cell_type": "markdown",
   "metadata": {
    "id": "3OB2V0i39a9B"
   },
   "source": [
    "## Combining the two methods"
   ]
  },
  {
   "cell_type": "markdown",
   "metadata": {
    "id": "oRmBSP0V6jGP"
   },
   "source": [
    "### Defining the model (run all)\n",
    "\n"
   ]
  },
  {
   "cell_type": "markdown",
   "metadata": {
    "id": "xa5Fnf_m-BWW"
   },
   "source": [
    "#### Model and pipeline definition (k=3)"
   ]
  },
  {
   "cell_type": "markdown",
   "metadata": {
    "id": "0U-am7QL6jGP"
   },
   "source": [
    "Same as before."
   ]
  },
  {
   "cell_type": "code",
   "execution_count": null,
   "metadata": {
    "executionInfo": {
     "elapsed": 229,
     "status": "ok",
     "timestamp": 1638959359073,
     "user": {
      "displayName": "Remy Tang",
      "photoUrl": "https://lh3.googleusercontent.com/a-/AOh14GgZKt_il_YhovsZglQRqyZLxFMXZYsgVpW3MksDevY=s64",
      "userId": "09294683799950681344"
     },
     "user_tz": -60
    },
    "id": "-VFY5tKQHWSx"
   },
   "outputs": [],
   "source": [
    "numerical_cols = ['order_dow', 'order_hour_of_day', 'days_since_prior_order']\n",
    "\n",
    "# Impute the average over all orders\n",
    "avg_imp = SimpleImputer(missing_values=np.nan, strategy='mean')\n",
    "\n",
    "# Imputing the average for a given client in a pipeline necessitates writing a custom imputer.\n",
    "# This is optional and will be done if there is enough time.\n",
    "\n",
    "std_scaler = StandardScaler()\n",
    "\n",
    "# Define the preprocessor\n",
    "preprocessor = ColumnTransformer(\n",
    "    transformers=[\n",
    "        ('num', avg_imp, numerical_cols),\n",
    "        ('norm', std_scaler, numerical_cols)\n",
    "    ])"
   ]
  },
  {
   "cell_type": "code",
   "execution_count": null,
   "metadata": {
    "executionInfo": {
     "elapsed": 4,
     "status": "ok",
     "timestamp": 1638959359959,
     "user": {
      "displayName": "Remy Tang",
      "photoUrl": "https://lh3.googleusercontent.com/a-/AOh14GgZKt_il_YhovsZglQRqyZLxFMXZYsgVpW3MksDevY=s64",
      "userId": "09294683799950681344"
     },
     "user_tz": -60
    },
    "id": "IQ7AQPrxIJJz"
   },
   "outputs": [],
   "source": [
    "# Create the model\n",
    "\n",
    "# kNN Classifier\n",
    "# Used GridSearchCV to tune k to 3\n",
    "kNN_model = KNeighborsClassifier(n_neighbors=3)\n",
    "multi_kNN_model = MultiOutputClassifier(kNN_model, n_jobs=-1)"
   ]
  },
  {
   "cell_type": "code",
   "execution_count": null,
   "metadata": {
    "executionInfo": {
     "elapsed": 7,
     "status": "ok",
     "timestamp": 1638959362910,
     "user": {
      "displayName": "Remy Tang",
      "photoUrl": "https://lh3.googleusercontent.com/a-/AOh14GgZKt_il_YhovsZglQRqyZLxFMXZYsgVpW3MksDevY=s64",
      "userId": "09294683799950681344"
     },
     "user_tz": -60
    },
    "id": "nWwvddb0Y9IZ"
   },
   "outputs": [],
   "source": [
    "# Make the pipeline\n",
    "\n",
    "# kNN Classifier\n",
    "kNN_pipeline = Pipeline(steps=[('preprocessor', preprocessor),\n",
    "                              ('kNN model', multi_kNN_model)\n",
    "                             ],\n",
    "                        verbose=True)"
   ]
  },
  {
   "cell_type": "markdown",
   "metadata": {
    "id": "XguXxym2-ms1"
   },
   "source": [
    "### Combining all the steps"
   ]
  },
  {
   "cell_type": "markdown",
   "metadata": {},
   "source": [
    "We can now combine our KNN tuned model with the association rules from the FP-Growth algorithm and see whether the jaccard score improves or not."
   ]
  },
  {
   "cell_type": "code",
   "execution_count": null,
   "metadata": {
    "executionInfo": {
     "elapsed": 327,
     "status": "ok",
     "timestamp": 1638959364718,
     "user": {
      "displayName": "Remy Tang",
      "photoUrl": "https://lh3.googleusercontent.com/a-/AOh14GgZKt_il_YhovsZglQRqyZLxFMXZYsgVpW3MksDevY=s64",
      "userId": "09294683799950681344"
     },
     "user_tz": -60
    },
    "id": "WRX4SOFCPzOx"
   },
   "outputs": [],
   "source": [
    "# Create the training data\n",
    "train_data = data[['order_id', 'order_dow', 'order_hour_of_day',\n",
    "                   'days_since_prior_order', 'cart']]"
   ]
  },
  {
   "cell_type": "code",
   "execution_count": null,
   "metadata": {
    "executionInfo": {
     "elapsed": 528,
     "status": "ok",
     "timestamp": 1638959369593,
     "user": {
      "displayName": "Remy Tang",
      "photoUrl": "https://lh3.googleusercontent.com/a-/AOh14GgZKt_il_YhovsZglQRqyZLxFMXZYsgVpW3MksDevY=s64",
      "userId": "09294683799950681344"
     },
     "user_tz": -60
    },
    "id": "CM7Y3iCplQic"
   },
   "outputs": [],
   "source": [
    "# Fraction of data to keep\n",
    "frac = 1/10\n",
    "# Testing size fraci\n",
    "t_size=0.30\n",
    "\n",
    "# Arrange training and testing data\n",
    "\n",
    "features = ['order_dow', 'order_hour_of_day', 'days_since_prior_order']\n",
    "target = 'cart'\n",
    "\n",
    "# Take more data for training\n",
    "train_sample = train_data.sample(axis=0, frac=frac)\n",
    "\n",
    "# Define target and features\n",
    "X = train_sample[features]\n",
    "y = train_sample[target]\n",
    "\n",
    "# Fit the MultiLabelBinarizer with sparse output\n",
    "mlb = MultiLabelBinarizer()\n",
    "mlb.fit(y)\n",
    "\n",
    "# Split the data\n",
    "X_train, X_test, y_train, y_test = train_test_split(X, y, test_size=t_size)\n",
    "\n",
    "# Convert the target data into binary matrix\n",
    "y_train_bm = mlb.transform(y_train)\n",
    "y_test_bm = mlb.transform(y_test)"
   ]
  },
  {
   "cell_type": "code",
   "execution_count": null,
   "metadata": {
    "id": "f2O0WAgIL_CN"
   },
   "outputs": [],
   "source": [
    "# Fit the model for k=3\n",
    "kNN_pipeline.fit(X_train, y_train_bm)"
   ]
  },
  {
   "cell_type": "code",
   "execution_count": null,
   "metadata": {
    "id": "KT2Tcf5Bn2iT"
   },
   "outputs": [],
   "source": [
    "# Predict on test set\n",
    "y_pred_bm = kNN_pipeline.predict(X_test)"
   ]
  },
  {
   "cell_type": "code",
   "execution_count": null,
   "metadata": {
    "colab": {
     "base_uri": "https://localhost:8080/"
    },
    "executionInfo": {
     "elapsed": 842,
     "status": "ok",
     "timestamp": 1638960147579,
     "user": {
      "displayName": "Remy Tang",
      "photoUrl": "https://lh3.googleusercontent.com/a-/AOh14GgZKt_il_YhovsZglQRqyZLxFMXZYsgVpW3MksDevY=s64",
      "userId": "09294683799950681344"
     },
     "user_tz": -60
    },
    "id": "BXSPIey9osCC",
    "outputId": "ada5dab4-7ad9-43b8-dfdb-b03ae4618865",
    "scrolled": true
   },
   "outputs": [],
   "source": [
    "# Get baseline score\n",
    "print('Raw Jaccard score:', jaccard_score(y_pred_bm, y_test_bm, average='micro'))"
   ]
  },
  {
   "cell_type": "markdown",
   "metadata": {},
   "source": [
    "We define a few functions for getting the jaccard score only using non-empty carts. This should give us a better baseline score since the score calculation is made by divising by the total number of carts. "
   ]
  },
  {
   "cell_type": "markdown",
   "metadata": {},
   "source": [
    "Moreover this new score reflets the performance of our model better since there are a lot of items that our model cannot predict (we have only kept the most popular items on Instacart, and the test set contains carts with any item). "
   ]
  },
  {
   "cell_type": "code",
   "execution_count": null,
   "metadata": {},
   "outputs": [],
   "source": [
    "def convert_to_carts(y_pred):\n",
    "    \"\"\"Convert back binary matrix prediction outputs to product id arrays\"\"\"\n",
    "    arr = mlb.inverse_transform(y_pred)\n",
    "    carts = [[] for i in range (len(arr))]\n",
    "    for i in range(len(arr)):\n",
    "        for id in arr[i]:\n",
    "            carts[i].append(id)\n",
    "    return carts\n",
    "\n",
    "def get_non_empty_carts(carts_bm):\n",
    "    \"\"\"Returns a set of non-empty carts in binary matrix form\n",
    "       from a set of binary matrices.\"\"\"\n",
    "    y_pred = convert_to_carts(carts_bm)\n",
    "    y_pred_no_e = []\n",
    "    idx = 0\n",
    "    non_empty_idx = []\n",
    "    \n",
    "    # Build array with only non-empty carts\n",
    "    # And save the indices of these carts\n",
    "    for cart in y_pred:\n",
    "        if cart != []:\n",
    "            y_pred_no_e.append(cart)\n",
    "            non_empty_idx.append(idx)\n",
    "        idx+=1\n",
    "        \n",
    "    # Transform the previous array to binary matrix format\n",
    "    non_e_carts_bm = mlb.transform(y_pred_no_e)\n",
    "    \n",
    "    return non_e_carts_bm, non_empty_idx\n",
    "    \n",
    "def jaccard_score_non_empty(y_pred_bm,y_test_bm):\n",
    "    \"\"\"Get the jaccard score for non empty carts only\"\"\"\n",
    "    non_empty_pred_bm, non_empty_idx = get_non_empty_carts(y_pred_bm)    \n",
    "    \n",
    "    \n",
    "    return jaccard_score(non_empty_pred_bm,\n",
    "           y_test_bm[non_empty_idx],\n",
    "           average='samples')"
   ]
  },
  {
   "cell_type": "code",
   "execution_count": null,
   "metadata": {},
   "outputs": [],
   "source": [
    "# Get baseline score for non-empty carts only\n",
    "print('Jaccard score with non-empty carts:', jaccard_score_non_empty(y_pred_bm,y_test_bm))"
   ]
  },
  {
   "cell_type": "code",
   "execution_count": null,
   "metadata": {
    "executionInfo": {
     "elapsed": 210,
     "status": "ok",
     "timestamp": 1638959586661,
     "user": {
      "displayName": "Remy Tang",
      "photoUrl": "https://lh3.googleusercontent.com/a-/AOh14GgZKt_il_YhovsZglQRqyZLxFMXZYsgVpW3MksDevY=s64",
      "userId": "09294683799950681344"
     },
     "user_tz": -60
    },
    "id": "jFpy8H_imn-Y"
   },
   "outputs": [],
   "source": [
    "# Get the association rules\n",
    "a_rules = fpg_a_rules"
   ]
  },
  {
   "cell_type": "code",
   "execution_count": null,
   "metadata": {
    "executionInfo": {
     "elapsed": 204,
     "status": "ok",
     "timestamp": 1638961813346,
     "user": {
      "displayName": "Remy Tang",
      "photoUrl": "https://lh3.googleusercontent.com/a-/AOh14GgZKt_il_YhovsZglQRqyZLxFMXZYsgVpW3MksDevY=s64",
      "userId": "09294683799950681344"
     },
     "user_tz": -60
    },
    "id": "TZh-sapVqABM"
   },
   "outputs": [],
   "source": [
    "# Set product name as index\n",
    "prod_n_idx = products.set_index('product_name')\n",
    "\n",
    "# Set product_id as index\n",
    "prod_id_idx = products.set_index('product_id')"
   ]
  },
  {
   "cell_type": "code",
   "execution_count": null,
   "metadata": {
    "executionInfo": {
     "elapsed": 204,
     "status": "ok",
     "timestamp": 1638961112379,
     "user": {
      "displayName": "Remy Tang",
      "photoUrl": "https://lh3.googleusercontent.com/a-/AOh14GgZKt_il_YhovsZglQRqyZLxFMXZYsgVpW3MksDevY=s64",
      "userId": "09294683799950681344"
     },
     "user_tz": -60
    },
    "id": "bEvB_EZwmqxU"
   },
   "outputs": [],
   "source": [
    "# Translate association rules to product_id\n",
    "ante_id = [[] for i in range(len(a_rules))]\n",
    "conse_id= [[] for i in range(len(a_rules))]\n",
    "\n",
    "for antecedent_n in range(len(a_rules)):\n",
    "    for product in a_rules.antecedents[antecedent_n]:\n",
    "        ante_id[antecedent_n].append(prod_n_idx.loc[product].product_id)\n",
    "\n",
    "for consequent_n in range(len(a_rules)):\n",
    "    for product in a_rules.consequents[consequent_n]:\n",
    "        conse_id[consequent_n].append(prod_n_idx.loc[product].product_id)"
   ]
  },
  {
   "cell_type": "code",
   "execution_count": null,
   "metadata": {
    "executionInfo": {
     "elapsed": 962,
     "status": "ok",
     "timestamp": 1638961474999,
     "user": {
      "displayName": "Remy Tang",
      "photoUrl": "https://lh3.googleusercontent.com/a-/AOh14GgZKt_il_YhovsZglQRqyZLxFMXZYsgVpW3MksDevY=s64",
      "userId": "09294683799950681344"
     },
     "user_tz": -60
    },
    "id": "EPbyJyArQwiJ"
   },
   "outputs": [],
   "source": [
    "# Get predicts carts into array format (instead of tuples)\n",
    "y_pred = mlb.inverse_transform(y_pred_bm)\n",
    "y_pred_arr = [[] for i in range(len(y_pred))]\n",
    "for cart_num in range(len(y_pred)):\n",
    "    y_pred_arr[cart_num] = list(y_pred[cart_num])"
   ]
  },
  {
   "cell_type": "code",
   "execution_count": null,
   "metadata": {
    "id": "71twHT_EtJbO"
   },
   "outputs": [],
   "source": [
    "# 1 to print when an item is added to a cart\n",
    "# 0 to not print anything\n",
    "comp_cart_verbose = 0\n",
    "\n",
    "# Create completed carts\n",
    "for cart_num in range(len(y_pred)):\n",
    "    for ante_num in range(len(ante_id)):\n",
    "        \n",
    "    # Check if a cart is exactly equal to an antecedent\n",
    "        if y_pred_arr[cart_num] == ante_id[ante_num]:\n",
    "            for conse in conse_id[ante_num]:\n",
    "                \n",
    "                # Check if consequent is already in the cart\n",
    "                # If not add it to the cart\n",
    "                if conse not in y_pred_arr[cart_num]:\n",
    "                    y_pred_arr[cart_num].append(conse)\n",
    "                    \n",
    "                    # Print info if verbose is set to 1\n",
    "                    if comp_cart_verbose:\n",
    "                        print('Added item:', prod_id_idx.loc[conse].product_name,\n",
    "                      'in cart:', cart_num)"
   ]
  },
  {
   "cell_type": "code",
   "execution_count": null,
   "metadata": {
    "colab": {
     "base_uri": "https://localhost:8080/"
    },
    "executionInfo": {
     "elapsed": 858,
     "status": "ok",
     "timestamp": 1638962326164,
     "user": {
      "displayName": "Remy Tang",
      "photoUrl": "https://lh3.googleusercontent.com/a-/AOh14GgZKt_il_YhovsZglQRqyZLxFMXZYsgVpW3MksDevY=s64",
      "userId": "09294683799950681344"
     },
     "user_tz": -60
    },
    "id": "iNQXjgWbwoVL",
    "outputId": "d573191d-d593-4b62-f53f-adcc9676ce96"
   },
   "outputs": [],
   "source": [
    "# Get new score\n",
    "y_pred_arr_bm = mlb.transform(y_pred_arr)\n",
    "print('New raw jaccard score:', jaccard_score(y_pred_arr_bm, y_test_bm, average='samples'))"
   ]
  },
  {
   "cell_type": "code",
   "execution_count": null,
   "metadata": {},
   "outputs": [],
   "source": [
    "# Get new score for non-empty carts only\n",
    "jaccard_score_non_empty(y_pred_arr_bm,y_test_bm)"
   ]
  },
  {
   "cell_type": "code",
   "execution_count": null,
   "metadata": {},
   "outputs": [],
   "source": [
    "# Relative improvement in percentage for non empty carts\n",
    "abs(jaccard_score_non_empty(y_pred_arr_bm,y_test_bm)-jaccard_score_non_empty(y_pred_bm,y_test_bm))/jaccard_score_non_empty(y_pred_bm,y_test_bm)"
   ]
  },
  {
   "cell_type": "markdown",
   "metadata": {},
   "source": [
    "We have successfully improved upon our ML model!"
   ]
  }
 ],
 "metadata": {
  "colab": {
   "name": "SD201-Instacart-AssociationRuleMining.ipynb",
   "provenance": []
  },
  "kernelspec": {
   "display_name": "Python 3",
   "language": "python",
   "name": "python3"
  },
  "language_info": {
   "codemirror_mode": {
    "name": "ipython",
    "version": 3
   },
   "file_extension": ".py",
   "mimetype": "text/x-python",
   "name": "python",
   "nbconvert_exporter": "python",
   "pygments_lexer": "ipython3",
   "version": "3.8.5"
  }
 },
 "nbformat": 4,
 "nbformat_minor": 1
}
